{
 "cells": [
  {
   "cell_type": "code",
   "execution_count": 1,
   "id": "728ca918-95e2-49ba-a0d1-4fdb160bf6de",
   "metadata": {},
   "outputs": [
    {
     "name": "stdout",
     "output_type": "stream",
     "text": [
      "===== Student Data Tracker Menu =====\n",
      "1. Add Student Record\n",
      "2. Display All Records\n",
      "3. Calculate Average Marks\n",
      "4. Save Records to CSV\n",
      "5. Exit\n",
      "=====================================\n"
     ]
    },
    {
     "name": "stdin",
     "output_type": "stream",
     "text": [
      "Enter your choice (1-5):  4\n"
     ]
    },
    {
     "name": "stdout",
     "output_type": "stream",
     "text": [
      "💾 Records successfully saved to student_records.csv\n",
      "\n",
      "===== Student Data Tracker Menu =====\n",
      "1. Add Student Record\n",
      "2. Display All Records\n",
      "3. Calculate Average Marks\n",
      "4. Save Records to CSV\n",
      "5. Exit\n",
      "=====================================\n"
     ]
    },
    {
     "name": "stdin",
     "output_type": "stream",
     "text": [
      "Enter your choice (1-5):  3\n"
     ]
    },
    {
     "name": "stdout",
     "output_type": "stream",
     "text": [
      "📭 No records to calculate averages.\n",
      "\n",
      "===== Student Data Tracker Menu =====\n",
      "1. Add Student Record\n",
      "2. Display All Records\n",
      "3. Calculate Average Marks\n",
      "4. Save Records to CSV\n",
      "5. Exit\n",
      "=====================================\n"
     ]
    },
    {
     "name": "stdin",
     "output_type": "stream",
     "text": [
      "Enter your choice (1-5):  5\n"
     ]
    },
    {
     "name": "stdout",
     "output_type": "stream",
     "text": [
      "👋 Exiting the application. Goodbye!\n"
     ]
    }
   ],
   "source": [
    "import csv\n",
    "\n",
    "class Student:\n",
    "    def __init__(self, name, roll_no, marks):\n",
    "        self.name = name\n",
    "        self.roll_no = roll_no\n",
    "        self.marks = marks  # List of 3 subject marks\n",
    "\n",
    "    def average_marks(self):\n",
    "        return sum(self.marks) / len(self.marks)\n",
    "\n",
    "    def to_list(self):\n",
    "        return [self.name, self.roll_no] + self.marks\n",
    "\n",
    "class StudentManager:\n",
    "    def __init__(self):\n",
    "        self.students = []\n",
    "\n",
    "    def add_student(self):\n",
    "        try:\n",
    "            name = input(\"Enter student's name: \")\n",
    "            roll_no = int(input(\"Enter roll number: \"))\n",
    "            marks = []\n",
    "            for i in range(1, 4):\n",
    "                mark = float(input(f\"Enter marks for subject {i}: \"))\n",
    "                if not (0 <= mark <= 100):\n",
    "                    raise ValueError(\"Marks must be between 0 and 100.\")\n",
    "                marks.append(mark)\n",
    "            student = Student(name, roll_no, marks)\n",
    "            self.students.append(student)\n",
    "            print(\"✅ Student record added successfully.\\n\")\n",
    "        except ValueError as e:\n",
    "            print(f\"❌ Input Error: {e}\\n\")\n",
    "\n",
    "    def display_students(self):\n",
    "        if not self.students:\n",
    "            print(\"📭 No records to display.\\n\")\n",
    "            return\n",
    "        print(\"\\n📋 All Student Records:\")\n",
    "        for s in self.students:\n",
    "            print(f\"Name: {s.name}, Roll No: {s.roll_no}, Marks: {s.marks}\")\n",
    "        print()\n",
    "\n",
    "    def calculate_averages(self):\n",
    "        if not self.students:\n",
    "            print(\"📭 No records to calculate averages.\\n\")\n",
    "            return\n",
    "        print(\"\\n📊 Student Average Marks:\")\n",
    "        for s in self.students:\n",
    "            avg = s.average_marks()\n",
    "            print(f\"{s.name} (Roll No: {s.roll_no}) - Average: {avg:.2f}\")\n",
    "        print()\n",
    "\n",
    "    def save_to_csv(self, filename=\"student_records.csv\"):\n",
    "        try:\n",
    "            with open(filename, mode='w', newline='') as file:\n",
    "                writer = csv.writer(file)\n",
    "                writer.writerow(['Name', 'Roll No', 'Subject1', 'Subject2', 'Subject3'])\n",
    "                for s in self.students:\n",
    "                    writer.writerow(s.to_list())\n",
    "            print(f\"💾 Records successfully saved to {filename}\\n\")\n",
    "        except Exception as e:\n",
    "            print(f\"❌ Error saving file: {e}\\n\")\n",
    "\n",
    "def show_menu():\n",
    "    print(\"===== Student Data Tracker Menu =====\")\n",
    "    print(\"1. Add Student Record\")\n",
    "    print(\"2. Display All Records\")\n",
    "    print(\"3. Calculate Average Marks\")\n",
    "    print(\"4. Save Records to CSV\")\n",
    "    print(\"5. Exit\")\n",
    "    print(\"=====================================\")\n",
    "\n",
    "def main():\n",
    "    manager = StudentManager()\n",
    "    while True:\n",
    "        show_menu()\n",
    "        choice = input(\"Enter your choice (1-5): \")\n",
    "\n",
    "        if choice == '1':\n",
    "            manager.add_student()\n",
    "        elif choice == '2':\n",
    "            manager.display_students()\n",
    "        elif choice == '3':\n",
    "            manager.calculate_averages()\n",
    "        elif choice == '4':\n",
    "            manager.save_to_csv()\n",
    "        elif choice == '5':\n",
    "            print(\"👋 Exiting the application. Goodbye!\")\n",
    "            break\n",
    "        else:\n",
    "            print(\"❌ Invalid choice. Please enter a number between 1 and 5.\\n\")\n",
    "\n",
    "if __name__ == \"__main__\":\n",
    "    main()\n"
   ]
  },
  {
   "cell_type": "code",
   "execution_count": null,
   "id": "e0319896-42ad-40a2-b7a6-ff7fe5069c0f",
   "metadata": {},
   "outputs": [],
   "source": []
  }
 ],
 "metadata": {
  "kernelspec": {
   "display_name": "Python 3 (ipykernel)",
   "language": "python",
   "name": "python3"
  },
  "language_info": {
   "codemirror_mode": {
    "name": "ipython",
    "version": 3
   },
   "file_extension": ".py",
   "mimetype": "text/x-python",
   "name": "python",
   "nbconvert_exporter": "python",
   "pygments_lexer": "ipython3",
   "version": "3.12.6"
  }
 },
 "nbformat": 4,
 "nbformat_minor": 5
}
